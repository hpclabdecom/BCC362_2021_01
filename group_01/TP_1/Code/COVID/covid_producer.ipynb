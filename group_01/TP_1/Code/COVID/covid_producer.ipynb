{
  "nbformat": 4,
  "nbformat_minor": 0,
  "metadata": {
    "colab": {
      "name": "covid-producer.ipynb",
      "provenance": [],
      "collapsed_sections": []
    },
    "kernelspec": {
      "name": "python3",
      "display_name": "Python 3"
    },
    "language_info": {
      "name": "python"
    }
  },
  "cells": [
    {
      "cell_type": "code",
      "metadata": {
        "colab": {
          "base_uri": "https://localhost:8080/"
        },
        "id": "bCZeQBcJWinB",
        "outputId": "41556a11-152f-4f3d-cde4-88dac099d90e"
      },
      "source": [
        "!pip install kafka\n",
        "!pip install kafka-python"
      ],
      "execution_count": null,
      "outputs": [
        {
          "output_type": "stream",
          "name": "stdout",
          "text": [
            "Collecting kafka\n",
            "  Downloading kafka-1.3.5-py2.py3-none-any.whl (207 kB)\n",
            "\u001b[?25l\r\u001b[K     |█▋                              | 10 kB 24.5 MB/s eta 0:00:01\r\u001b[K     |███▏                            | 20 kB 30.7 MB/s eta 0:00:01\r\u001b[K     |████▊                           | 30 kB 15.7 MB/s eta 0:00:01\r\u001b[K     |██████▎                         | 40 kB 11.5 MB/s eta 0:00:01\r\u001b[K     |████████                        | 51 kB 7.3 MB/s eta 0:00:01\r\u001b[K     |█████████▌                      | 61 kB 6.8 MB/s eta 0:00:01\r\u001b[K     |███████████                     | 71 kB 6.8 MB/s eta 0:00:01\r\u001b[K     |████████████▋                   | 81 kB 7.6 MB/s eta 0:00:01\r\u001b[K     |██████████████▎                 | 92 kB 6.4 MB/s eta 0:00:01\r\u001b[K     |███████████████▉                | 102 kB 6.9 MB/s eta 0:00:01\r\u001b[K     |█████████████████▍              | 112 kB 6.9 MB/s eta 0:00:01\r\u001b[K     |███████████████████             | 122 kB 6.9 MB/s eta 0:00:01\r\u001b[K     |████████████████████▋           | 133 kB 6.9 MB/s eta 0:00:01\r\u001b[K     |██████████████████████▏         | 143 kB 6.9 MB/s eta 0:00:01\r\u001b[K     |███████████████████████▊        | 153 kB 6.9 MB/s eta 0:00:01\r\u001b[K     |█████████████████████████▎      | 163 kB 6.9 MB/s eta 0:00:01\r\u001b[K     |██████████████████████████▉     | 174 kB 6.9 MB/s eta 0:00:01\r\u001b[K     |████████████████████████████▌   | 184 kB 6.9 MB/s eta 0:00:01\r\u001b[K     |██████████████████████████████  | 194 kB 6.9 MB/s eta 0:00:01\r\u001b[K     |███████████████████████████████▋| 204 kB 6.9 MB/s eta 0:00:01\r\u001b[K     |████████████████████████████████| 207 kB 6.9 MB/s \n",
            "\u001b[?25hInstalling collected packages: kafka\n",
            "Successfully installed kafka-1.3.5\n",
            "Collecting kafka-python\n",
            "  Downloading kafka_python-2.0.2-py2.py3-none-any.whl (246 kB)\n",
            "\u001b[K     |████████████████████████████████| 246 kB 10.0 MB/s \n",
            "\u001b[?25hInstalling collected packages: kafka-python\n",
            "Successfully installed kafka-python-2.0.2\n"
          ]
        }
      ]
    },
    {
      "cell_type": "markdown",
      "metadata": {
        "id": "j_sdpIBGP9wW"
      },
      "source": [
        "Covid Producer"
      ]
    },
    {
      "cell_type": "code",
      "metadata": {
        "id": "65C8DTxJP9bp"
      },
      "source": [
        "# bibliotecas\n",
        "from datetime import datetime\n",
        "import tweepy\n",
        "from time import sleep \n",
        "from json import dumps\n",
        "from kafka import KafkaProducer\n",
        "\n",
        "# configuração do kafka\n",
        "broker = 'pkc-ldjyd.southamerica-east1.gcp.confluent.cloud:'\n",
        "topico = 'covid'\n",
        "\n",
        "producer = KafkaProducer(bootstrap_servers=[broker], \n",
        "                         security_protocol='', \n",
        "                         sasl_mechanism='',\n",
        "                         sasl_plain_username='',\n",
        "                         sasl_plain_password='', \n",
        "                         value_serializer=lambda v: dumps(v).encode('utf-8'),\n",
        "                         api_version=(0, 10, 1))\n",
        "                         \n",
        "                         \n",
        "# configuração da API twitter\n",
        "auth = tweepy.OAuthHandler(consumer_key, consumer_secret)\n",
        "auth.set_access_token(access_token, access_token_secret)\n",
        "api = tweepy.API(auth)\n",
        "\n",
        "while True:\n",
        "  tweets = api.search('covid')\n",
        "\n",
        "  # colhendo os dados conforme texto desejado\n",
        "  for tweet in tweets:\n",
        "    frase = str(tweet.text)\n",
        "    data_e_hora_completa = datetime.now()\n",
        "    data_string = data_e_hora_completa.strftime('%Y-%m-%d %H:%M:%S')\n",
        "    dados = {\"tweet\": frase, \"horario\": data_string}\n",
        "    producer.send(topico, value=dados)\n",
        "    sleep(1000)"
      ],
      "execution_count": 1,
      "outputs": []
    },
    {
      "cell_type": "markdown",
      "metadata": {
        "id": "V6Z8D69UGcg6"
      },
      "source": [
        ""
      ]
    }
  ]
}