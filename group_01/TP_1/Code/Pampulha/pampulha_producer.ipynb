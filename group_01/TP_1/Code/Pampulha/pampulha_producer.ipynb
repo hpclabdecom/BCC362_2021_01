{
  "nbformat": 4,
  "nbformat_minor": 0,
  "metadata": {
    "colab": {
      "name": "pampulha-producer.ipynb",
      "provenance": [],
      "collapsed_sections": []
    },
    "kernelspec": {
      "name": "python3",
      "display_name": "Python 3"
    },
    "language_info": {
      "name": "python"
    }
  },
  "cells": [
    {
      "cell_type": "code",
      "metadata": {
        "colab": {
          "base_uri": "https://localhost:8080/"
        },
        "id": "bCZeQBcJWinB",
        "outputId": "2d7fda2f-b75e-4e40-bef9-361e34c2fd56"
      },
      "source": [
        "!pip install kafka\n",
        "!pip install kafka-python"
      ],
      "execution_count": null,
      "outputs": [
        {
          "output_type": "stream",
          "name": "stdout",
          "text": [
            "Requirement already satisfied: kafka in /usr/local/lib/python3.7/dist-packages (1.3.5)\n",
            "Requirement already satisfied: kafka-python in /usr/local/lib/python3.7/dist-packages (2.0.2)\n"
          ]
        }
      ]
    },
    {
      "cell_type": "markdown",
      "metadata": {
        "id": "j_sdpIBGP9wW"
      },
      "source": [
        "Pampulha Producer"
      ]
    },
    {
      "cell_type": "code",
      "metadata": {
        "id": "65C8DTxJP9bp"
      },
      "source": [
        "# bibliotecas\n",
        "from datetime import datetime\n",
        "import tweepy\n",
        "from time import sleep \n",
        "from json import dumps\n",
        "from kafka import KafkaProducer\n",
        "\n",
        "# chaves de autenticação do twitter\n",
        "consumer_key = ''\n",
        "consumer_secret = ''\n",
        "access_token = ''\n",
        "access_token_secret = ''\n",
        "\n",
        "# configuração do kafka\n",
        "broker = 'pkc-ldjyd.southamerica-east1.gcp.confluent.cloud:9092'\n",
        "topico = 'pampulha'\n",
        "\n",
        "producer = KafkaProducer(bootstrap_servers=[broker], \n",
        "                         security_protocol='', \n",
        "                         sasl_mechanism='',\n",
        "                         sasl_plain_username='',\n",
        "                         sasl_plain_password='', \n",
        "                         value_serializer=lambda v: dumps(v).encode('utf-8'),\n",
        "                         api_version=(0, 10, 1))\n",
        "                         \n",
        "                         \n",
        "# configuração da API twitter\n",
        "auth = tweepy.OAuthHandler(consumer_key, consumer_secret)\n",
        "auth.set_access_token(access_token, access_token_secret)\n",
        "api = tweepy.API(auth)\n",
        "\n",
        "while True:\n",
        "  tweets = api.search('pampulha')\n",
        "\n",
        "  # colhendo os dados conforme texto desejado\n",
        "  for tweet in tweets:\n",
        "    frase = str(tweet.text)\n",
        "    data_e_hora_completa = datetime.now()\n",
        "    data_string = data_e_hora_completa.strftime('%Y-%m-%d %H:%M:%S')\n",
        "    dados = {\"tweet\": frase, \"horario\": data_string}\n",
        "    producer.send(topico, value=dados)\n",
        "    # print(dados)"
      ],
      "execution_count": 1,
      "outputs": []
    },
    {
      "cell_type": "code",
      "source": [
        ""
      ],
      "metadata": {
        "id": "DdWntKDvt36D"
      },
      "execution_count": null,
      "outputs": []
    }
  ]
}